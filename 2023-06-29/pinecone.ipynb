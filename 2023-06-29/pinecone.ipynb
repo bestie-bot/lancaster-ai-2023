{
 "cells": [
  {
   "cell_type": "markdown",
   "metadata": {},
   "source": [
    "## Requirements\n",
    "- Set up a Pinecone account. Free is fine. The settings for the index are: \n",
    "```\n",
    "any name is ok, but no spaces\n",
    "embeddings: 1536\n",
    "metric: cosine\n",
    "starter plan\n",
    "```\n",
    "- Make sure you have an OpenAI API Key\n",
    "- Grab your Pinecone keys and OpenAI API Key and place them in your `.env` file in your local directory\n",
    "- Come back here and go through the code"
   ]
  },
  {
   "cell_type": "markdown",
   "metadata": {},
   "source": [
    "## Requirements\n",
    "- Set up a Pinecone account. Free is fine. The settings for the index are: \n",
    "```\n",
    "any name is ok, but no spaces\n",
    "embeddings: 1536\n",
    "metric: cosine\n",
    "starter plan\n",
    "```\n",
    "- Make sure you have an OpenAI API Key\n",
    "- Grab your Pinecone keys and OpenAI API Key and place them in your `.env` file in your local directory\n",
    "- Come back here and go through the code"
   ]
  },
  {
   "cell_type": "markdown",
   "metadata": {},
   "source": [
    "## Let's load our data\n",
    "\n",
    "For more information on all the loaders including:\n",
    "- CSV\n",
    "- File Directory\n",
    "- HTML\n",
    "- JSON\n",
    "- Markdown\n",
    "- PDF\n",
    "\n",
    "Visit [the documentation here](https://python.langchain.com/docs/modules/data_connection/document_loaders/)."
   ]
  },
  {
   "cell_type": "code",
   "execution_count": 1,
   "metadata": {},
   "outputs": [],
   "source": [
    "# In this example, I am using text files from a file directory.\n",
    "\n",
    "from langchain.document_loaders import DirectoryLoader\n",
    "from langchain.text_splitter import RecursiveCharacterTextSplitter"
   ]
  },
  {
   "cell_type": "code",
   "execution_count": 2,
   "metadata": {},
   "outputs": [],
   "source": [
    "loader = DirectoryLoader('./data', glob=\"**/*.txt\")\n",
    "data = loader.load()"
   ]
  },
  {
   "cell_type": "code",
   "execution_count": 3,
   "metadata": {},
   "outputs": [
    {
     "name": "stdout",
     "output_type": "stream",
     "text": [
      "You have 2 document(s) in your data\n"
     ]
    }
   ],
   "source": [
    "print (f'You have {len(data)} document(s) in your data')"
   ]
  },
  {
   "cell_type": "markdown",
   "metadata": {},
   "source": [
    "## Let's chunk up our data to help with tokens, search, etc"
   ]
  },
  {
   "cell_type": "code",
   "execution_count": 4,
   "metadata": {},
   "outputs": [],
   "source": [
    "text_splitter = RecursiveCharacterTextSplitter(chunk_size=1000, chunk_overlap=0)\n",
    "texts = text_splitter.split_documents(data)"
   ]
  },
  {
   "cell_type": "code",
   "execution_count": 5,
   "metadata": {},
   "outputs": [
    {
     "name": "stdout",
     "output_type": "stream",
     "text": [
      "Now you have 16 documents\n"
     ]
    }
   ],
   "source": [
    "print (f'Now you have {len(texts)} documents')"
   ]
  },
  {
   "cell_type": "markdown",
   "metadata": {},
   "source": [
    "## Create embeddings of your documents to prepare for Pinecone upload"
   ]
  },
  {
   "cell_type": "code",
   "execution_count": 6,
   "metadata": {},
   "outputs": [
    {
     "name": "stderr",
     "output_type": "stream",
     "text": [
      "/home/vscode/.local/lib/python3.11/site-packages/pinecone/index.py:4: TqdmExperimentalWarning: Using `tqdm.autonotebook.tqdm` in notebook mode. Use `tqdm.tqdm` instead to force console mode (e.g. in jupyter console)\n",
      "  from tqdm.autonotebook import tqdm\n"
     ]
    }
   ],
   "source": [
    "from langchain.vectorstores import Pinecone\n",
    "from langchain.embeddings.openai import OpenAIEmbeddings\n",
    "import pinecone\n",
    "import os\n",
    "\n",
    "from dotenv import load_dotenv\n",
    "load_dotenv()\n",
    "\n",
    "OPENAI_API_KEY = os.getenv('OPENAI_API_KEY')\n",
    "PINECONE_API_KEY = os.getenv('PINECONE_API_KEY')\n",
    "PINECONE_API_ENV = os.getenv('PINECONE_API_ENV')"
   ]
  },
  {
   "cell_type": "code",
   "execution_count": 7,
   "metadata": {},
   "outputs": [],
   "source": [
    "embeddings = OpenAIEmbeddings(openai_api_key=OPENAI_API_KEY)"
   ]
  },
  {
   "cell_type": "code",
   "execution_count": 8,
   "metadata": {},
   "outputs": [],
   "source": [
    "pinecone.init(\n",
    "    api_key=PINECONE_API_KEY,\n",
    "    environment=PINECONE_API_ENV\n",
    ")\n",
    "index_name = \"lancaster-ai-test\" # change this to your own index name"
   ]
  },
  {
   "cell_type": "code",
   "execution_count": 9,
   "metadata": {},
   "outputs": [],
   "source": [
    "docsearch = Pinecone.from_texts([t.page_content for t in texts], embeddings, index_name=index_name)"
   ]
  },
  {
   "cell_type": "code",
   "execution_count": 10,
   "metadata": {},
   "outputs": [
    {
     "name": "stdout",
     "output_type": "stream",
     "text": [
      "You won't need to give a daily shower or bath to your loved one if you routinely give him or her a sponge bath. This is a quicker alternative and a good one if your loved one is afraid of stepping into the tub or the shower. Have your loved ones sit on a towel-covered bathroom chair or toilet seat, or stand at the bathroom sink. Fill the sink with warm water and add a bit of soap to it. Not too soapy, however. Now, using a few washcloths, start washing your loved one from the top and work your way down the body. Again, let your loved one do as much as possible by showing, telling, or guiding.\n"
     ]
    }
   ],
   "source": [
    "# Let's confirm that the index is working at Pinecone's end\n",
    "query = \"I'm having challenges showering my parent. What should I do?\"\n",
    "docs = docsearch.similarity_search(query)\n",
    "print(docs[0].page_content)"
   ]
  },
  {
   "cell_type": "markdown",
   "metadata": {},
   "source": [
    "## Let's do a full sample test with ChatGPT"
   ]
  },
  {
   "cell_type": "code",
   "execution_count": 13,
   "metadata": {},
   "outputs": [],
   "source": [
    "from langchain.llms import OpenAI\n",
    "from langchain.chains.question_answering import load_qa_chain"
   ]
  },
  {
   "cell_type": "code",
   "execution_count": 14,
   "metadata": {},
   "outputs": [],
   "source": [
    "index_name = \"lancaster-ai-test\"\n",
    "llm = OpenAI(temperature=0, openai_api_key=OPENAI_API_KEY)\n",
    "embeddings = OpenAIEmbeddings(openai_api_key=OPENAI_API_KEY)\n",
    "chain = load_qa_chain(llm, chain_type=\"stuff\")\n",
    "docsearch = Pinecone.from_existing_index(index_name, embeddings)"
   ]
  },
  {
   "cell_type": "code",
   "execution_count": 15,
   "metadata": {},
   "outputs": [],
   "source": [
    "query = \"I'm having challenges showering my parent. What should I do?\"\n",
    "docs = docsearch.similarity_search(query)"
   ]
  },
  {
   "cell_type": "code",
   "execution_count": 16,
   "metadata": {},
   "outputs": [
    {
     "data": {
      "text/plain": [
       "\" When showering your loved one, choose warm water and mild water pressure. If he or she is shy, drape a large towel around his or her body. Guide him or her gently to the seat or to the grab bar if standing is preferred. Let him or her feel the water temperature and handle the showerhead if necessary. When washing the hair, it's best if your loved one is seated. The detachable shower house and a well-placed washcloth can help keep soap away from the eyes. Make sure the bath is thorough by cleaning under all folds of skin. After the shower, gently help your loved one onto the floor mat and wait until he or she is out before turning off the water. You don't want your loved one to get chilled or scalded. Lead him or her to a nearby chair or even the toilet seat, and you can begin the drying process.\""
      ]
     },
     "execution_count": 16,
     "metadata": {},
     "output_type": "execute_result"
    }
   ],
   "source": [
    "chain.run(input_documents=docs, question=query)"
   ]
  },
  {
   "cell_type": "code",
   "execution_count": null,
   "metadata": {},
   "outputs": [],
   "source": []
  }
 ],
 "metadata": {
  "kernelspec": {
   "display_name": "Python 3 (ipykernel)",
   "language": "python",
   "name": "python3"
  },
  "language_info": {
   "codemirror_mode": {
    "name": "ipython",
    "version": 3
   },
   "file_extension": ".py",
   "mimetype": "text/x-python",
   "name": "python",
   "nbconvert_exporter": "python",
   "pygments_lexer": "ipython3",
   "version": "3.11.3"
  }
 },
 "nbformat": 4,
 "nbformat_minor": 2
}
